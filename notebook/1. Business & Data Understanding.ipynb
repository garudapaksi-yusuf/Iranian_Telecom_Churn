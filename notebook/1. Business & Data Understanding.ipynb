{
 "cells": [
  {
   "cell_type": "markdown",
   "id": "05c5cc39",
   "metadata": {},
   "source": [
    "<h1 style='text-align: center'> Iranian Telecom Churn </h1>\n",
    "<h4 style='text-align: center'> Garudapaksi Yusuf </h4>\n",
    "\n",
    "<div>\n",
    "    <a href=\"../notebook/\" style=\"float: left; padding: 10px; background-color: #007bff; color: white\"> Previous </a>\n",
    "    <a href=\"../notebook/2. Data Analysis.ipynb\" style=\"float: right; padding: 10px; background-color: #007bff; color: white\"> Next </a>\n",
    "</div>"
   ]
  },
  {
   "cell_type": "markdown",
   "id": "99d19003",
   "metadata": {},
   "source": [
    "## Section 1 | Business & Data Understanding\n",
    "____\n",
    "\n",
    "In the context of a data analysis project, business understanding refers to the process of gaining a deep comprehension of the business goals, challenges, and context that the data analysis is intended to address. It involves defining the specific business problem or opportunity that the project aims to solve, understanding the key objectives of the stakeholders, and identifying how data-driven insights can provide value. This phase is crucial because it helps guide the direction of the analysis, ensuring that the data exploration, modeling, and interpretation are aligned with the company's strategic goals."
   ]
  },
  {
   "cell_type": "markdown",
   "id": "c0e21269",
   "metadata": {},
   "source": [
    "### Business Context\n",
    "\n",
    "Customer churn is a significant challenge faced by the telecommunications industry, where service providers lose customers to competitors or have them switch to alternative communication solutions. This problem is especially critical in the telecommunications sector due to the high level of competition, low switching costs, and the increasingly saturated market. When customers leave a telecom provider, it not only impacts the immediate revenue but also has long-term effects on the brand’s reputation, customer acquisition efforts, and overall profitability. This makes understanding and managing churn a vital priority for telecom companies."
   ]
  },
  {
   "cell_type": "markdown",
   "id": "3cbd32e7",
   "metadata": {},
   "source": [
    "### Business Objective\n",
    "\n",
    "Terdapat dua tujuan utama yang hendak dicapai dalam project ini:\n",
    "1. Melakukan analisis terhadap data historis yang dimiliki perusahaan telekomunikasi —khususnya data yang berkaitan dengan customer attrition/churn— untuk mengetahui pola dari ketidakpuasan yang dialami pelanggan tersebut.\n",
    "2. Membangun model prediktif yang dapat mengidentifikasi pelanggan terkini yang hendak membatalkan langganannya kepada perusahaan telekomunikasi."
   ]
  },
  {
   "cell_type": "markdown",
   "id": "712f343c",
   "metadata": {},
   "source": [
    "### Data Context\n",
    "\n",
    "<div align=\"center\">\n",
    "\n",
    "| Category | Description |\n",
    "| --- | --- |\n",
    "| Source URL | [University of California, Irvine (UCI) Machine Learning Repository: Iranian Churn](https://archive.ics.uci.edu/dataset/563/iranian+churn+dataset) |\n",
    "| License | [Creative Commons Attribution 4.0 International](https://creativecommons.org/licenses/by/4.0/legalcode) |\n",
    "| Dataset Characteristics | Multivariate |\n",
    "| Subject Area | Business |\n",
    "| Associated Tasks | Classification, Regression |\n",
    "| Feature Type | Integer, Binary, Continuous |\n",
    "| # of Instances | 3150 |\n",
    "| # of Features | 13 |\n",
    "\n",
    "</div>\n",
    "\n",
    "This dataset is randomly collected from an Iranian telecom company's database over a period of 12 months. A total of 3150 rows of data, each representing a customer, bear information for 13 columns. The attributes that are in this dataset are call failures, frequency of SMS, number of complaints, number of distinct calls, subscription length, age group, the charge amount, type of service, seconds of use, status, frequency of use, and Customer Value.\n",
    "\n",
    "All of the attributes except for attribute churn is the aggregated data of the first 9 months. The churn labels are the state of the customers at the end of 12 months. The three months is the designated planning gap."
   ]
  },
  {
   "cell_type": "markdown",
   "id": "a6b9c64b",
   "metadata": {},
   "source": [
    "### Data Dictionary\n",
    "\n",
    "Dataset ini juga menyediakan penjelasan mengenai makna yang terkandung dalam tiap kolom data, sehingga penggunanya dapat memahami signifikansi dari dataset dalam menjelaskan informasi dari Iranian telecom churn customers.\n",
    "\n",
    "<div align=\"center\">\n",
    "\n",
    "| <div style=\"width:110px\"> Variable | Role | Type | Description |\n",
    "| --- | --- | --- | --- |\n",
    "| Call Failure | Feature | Integer | Number of call failures |\n",
    "| Complains | Feature | Binary | Binary attribute (0: No complaint, 1: Complaint) |\n",
    "| Subscription Length | Feature | Integer | Total months of subscription |\n",
    "| Charge Amount\t| Feature | Integer\t| Ordinal attribute (0: Lowest amount, 9: Highest amount) |\n",
    "| Seconds of Use | Feature\t| Integer | Total seconds of calls |\n",
    "| Frequency of use | Feature | Integer | Total number of calls |\n",
    "| Frequency of SMS | Feature | Integer | Total number of text messages |\n",
    "| Distinct Called Numbers | Feature | Integer | Total number of distinct phone calls |\n",
    "| Age Group | Feature | Integer | Ordinal attribute (1: Younger age, 5: Older age) |\n",
    "| Tariff Plan | Feature\t| Binary | Binary attribute (1: Pay as you go, 2: Contractual) |\n",
    "| Status | Feature | Binary | Binary attribute (1: Active, 2: Non-active) |\n",
    "| Age | Feature | Integer | - |\n",
    "| Customer Value | Feature | Continuous | The calculated value of customer |\n",
    "| Churn\t| Target | Binary | Binary class label (0: Non-churn, 1: Churn) |\n",
    "\n",
    "</div>\n",
    "\n",
    "*Note:*\n",
    "\n",
    "* *For `Age` variable, no description provided from the data source.*\n",
    "* *As for `Customer Value`, the description is deemed ambiguous, and therefore incomplete.*"
   ]
  },
  {
   "cell_type": "markdown",
   "id": "57f8790a",
   "metadata": {},
   "source": [
    "<div>\n",
    "    <a href=\"../notebook/\" style=\"float: left; padding: 10px; background-color: #007bff; color: white\"> Previous </a>\n",
    "    <a href=\"../notebook/2. Data Analysis.ipynb\" style=\"float: right; padding: 10px; background-color: #007bff; color: white\"> Next </a>\n",
    "</div>"
   ]
  }
 ],
 "metadata": {
  "language_info": {
   "name": "python"
  }
 },
 "nbformat": 4,
 "nbformat_minor": 5
}
